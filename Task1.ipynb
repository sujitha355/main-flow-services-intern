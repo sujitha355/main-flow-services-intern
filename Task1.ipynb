{
  "metadata": {
    "kernelspec": {
      "name": "python",
      "display_name": "Python (Pyodide)",
      "language": "python"
    },
    "language_info": {
      "codemirror_mode": {
        "name": "python",
        "version": 3
      },
      "file_extension": ".py",
      "mimetype": "text/x-python",
      "name": "python",
      "nbconvert_exporter": "python",
      "pygments_lexer": "ipython3",
      "version": "3.8"
    }
  },
  "nbformat_minor": 5,
  "nbformat": 4,
  "cells": [
    {
      "id": "8f3b2a90-0248-4eb2-8abf-c8c0200c6090",
      "cell_type": "code",
      "source": "",
      "metadata": {
        "trusted": true
      },
      "outputs": [],
      "execution_count": null
    },
    {
      "id": "e065cb76-c984-498e-9c4e-184edb795679",
      "cell_type": "code",
      "source": "# Operations On Python Lists\n# Creation of a List in Python\n \n# Creating an empty List\nempty_List = []\nprint(empty_List)\n\n# Creating a List containing items of different data types\nList = [1, \"Interviewbit\", 9.5, 'D']\nprint(List)\n\n# Creating A Nested List\nnested_List = [[6, 2, 8], [1, \"Interviewbit\", 3.5], \"preparation\"]\nprint(nested_List)\n\n# Accessing List Elements\n\n# Using Positive Index\nprint(List[0])\nprint(List[3])\n\n# Using Negative Index\nprint(List[-4])\nprint(List[-1])\nhh\n# Add/Change Elements In Lists\n\nvowels = ['a', 'e']\nprint(vowels)\n# Appending an element in list\nvowels.append('i')\nprint(vowels)\n# Extending an element in list\nvowels.extend(['o', 'u'])\nprint(vowels)\n\n# Deleting/Removing items from the List.\nmy_List = [1, 2, 3, 4, 5, 6, 7, 8]\nprint(my_List)\n# Deleting/Removing a single item from the list\ndel my_List[3]\nprint(my_List)\n\n# Concatinating Two Python Lists\n\nList1 = [1, 2, 3, 4] \nList2 = [5, 6, 7, 8]\nconcat_List = List1 + List2\nprint(concat_List)\n\n#Slicing Python Lists\n\nmy_List = ['i', 'n', 't', 'v', 'i', 'e', 'w', 'b', 'i', 't']\n# Accessing elements from index beginning to 5th index\nprint(my_List[:6])\n# Accessing elements from index 3 to 6\nprint(my_List[3:7])\n# Accessing elements from index 5 to end\nprint(my_List[5:])\n# Accessing elements from beginning to end\nprint(my_List[:])\n# Accessing elements from beginning to 4th index\nprint(my_List[:-6])",
      "metadata": {
        "trusted": true
      },
      "outputs": [
        {
          "name": "stdout",
          "text": "[]\n[1, 'Interviewbit', 9.5, 'D']\n[[6, 2, 8], [1, 'Interviewbit', 3.5], 'preparation']\n1\nD\n1\nD\n['a', 'e']\n['a', 'e', 'i']\n['a', 'e', 'i', 'o', 'u']\n[1, 2, 3, 4, 5, 6, 7, 8]\n[1, 2, 3, 5, 6, 7, 8]\n[1, 2, 3, 4, 5, 6, 7, 8]\n['i', 'n', 't', 'v', 'i', 'e']\n['v', 'i', 'e', 'w']\n['e', 'w', 'b', 'i', 't']\n['i', 'n', 't', 'v', 'i', 'e', 'w', 'b', 'i', 't']\n['i', 'n', 't', 'v']\n",
          "output_type": "stream"
        }
      ],
      "execution_count": 21
    },
    {
      "id": "1a50a2e7-1f7e-4d56-ae3a-f977d55db132",
      "cell_type": "code",
      "source": "#Operations On Python Dictionaries\n#Accessing the specific key from the dictionary\nmy_dict = {'name': 'John', 'age': 30}\nprint(my_dict.get('name'))\nprint(my_dict.get('address', 'Not Found'))\n\n#Returns a list of all the keys and values in the dictionary\nmy_dict = {'name': 'John', 'age': 30}\nprint(my_dict.keys())\nprint(my_dict.values())\n\n#return a list of all key-value pairs in the dictionary\nmy_dict = {'name': 'John', 'age': 30}\nprint(my_dict.items())\n\n#Updating the list  key-value pairs to a dictionary \nmy_dict = {'name': 'John', 'age': 30}\nmy_dict.update({'age': 31, 'address': '123 Street'})\nprint(my_dict)\n\n#Removing the list key-value pair from a dictionary\nmy_dict = {'name': 'John', 'age': 30, 'address': '123 Street'}\nremoved_value = my_dict.pop('address')\nprint(removed_value)\nprint(my_dict)\n\n#Returns the last key-value pair added to the dictionary\nmy_dict = {'name': 'John', 'age': 30, 'address': '123 Street'}\nremoved_pair = my_dict.popitem()\nprint(removed_pair)\nprint(my_dict)",
      "metadata": {
        "trusted": true
      },
      "outputs": [
        {
          "name": "stdout",
          "text": "John\nNot Found\ndict_keys(['name', 'age'])\ndict_values(['John', 30])\ndict_items([('name', 'John'), ('age', 30)])\n{'name': 'John', 'age': 31, 'address': '123 Street'}\n123 Street\n{'name': 'John', 'age': 30}\n('address', '123 Street')\n{'name': 'John', 'age': 30}\n",
          "output_type": "stream"
        }
      ],
      "execution_count": 22
    },
    {
      "id": "251d7e4d-f3fc-4176-8648-df1898f1d06a",
      "cell_type": "code",
      "source": "# Operations On Python Tuples\n\n# Creating A Tuple\nmy_tuple = (1, 2, 3)\nprint(my_tuple)\n\n# Accessing Elements in a Python Tuple and Indexing\ntempTuple = ('hello', 1, 2, 3)\nprint(tempTuple[0]) # prints first element of the tuple\nprint(tempTuple[3]) # prints last element of the tuple\n#print(tempTuple[4]) # error\n\n# Nested Python Tuple Accessibility\nnestedTuple = ('hello', [1 ,2, 3], (4, 5, 6))\nprint(nestedTuple[0][2])\nprint(nestedTuple[2][2])\n\n# Accessing Via Negative Indices\ntempTuple = ('A', 'B', 'C', 'D.', 'E', 'F', 'G', 'H')\nprint(tempTuple[2]) # C\nprint(tempTuple[-6]) # C\n\n# Updating Tuples in Python\ntempTuple = ('Welcome', 'to', 'interview', 'bit.', 'Have', 'a', 'great', 'day', [1, 2, 3])\n# tempTuple[0] = 'Hello' # throws type error\ntempTuple[8].append(4) # appending a new integer \n# Printing the list at 8th index in the tuple\nprint(tempTuple[8]) \ntempTuple[8].pop(3) # popping element \n# Printing the list at 8th index in the tuple\nprint(tempTuple[8]) # OUTPUT: [1, 2, 3]\ntempTuple = (1, 2, 3) # Assigning tuple all over again\nprint(tempTuple)\n\n# Slicing python Tuple\ntemptuple =  (\"Welcome\", \"to\", \"interview\", \"bit.\", \"Have\", \"a\", \"great\", \"day\")\ntuple1 = temptuple[::] # fetching complete tuple\nprint(\"tuple1:\", tuple1)\ntuple2 = temptuple[0 : 6] # fetching tuple from 0th index to 6th index\nprint(\"tuple2:\", tuple2)\ntuple3 = temptuple[:: 3] # jumping every third element from start to end\nprint(\"tuple3:\", tuple3) \ntuple4 = temptuple[1:5:2] # jumping to every 2nd element starting from 1st index until 5th index\nprint(\"tuple4:\", tuple4) \ntuple5 = temptuple[-8:-5] # 8th index from end to 5th index from end\nprint(\"tuple5:\", tuple5) \ntuple6 = temptuple[::-3] # jumping every 3rd element in reverse\nprint(\"tuple6:\", tuple6) \ntuple7 = temptuple[-7:-3:2] # alternate implementation of tuple4\nprint(\"tuple7:\", tuple7)",
      "metadata": {
        "trusted": true
      },
      "outputs": [
        {
          "name": "stdout",
          "text": "(1, 2, 3)\nhello\n3\nl\n6\nC\nC\n[1, 2, 3, 4]\n[1, 2, 3]\n(1, 2, 3)\ntuple1: ('Welcome', 'to', 'interview', 'bit.', 'Have', 'a', 'great', 'day')\ntuple2: ('Welcome', 'to', 'interview', 'bit.', 'Have', 'a')\ntuple3: ('Welcome', 'bit.', 'great')\ntuple4: ('to', 'bit.')\ntuple5: ('Welcome', 'to', 'interview')\ntuple6: ('day', 'Have', 'to')\ntuple7: ('to', 'bit.')\n",
          "output_type": "stream"
        }
      ],
      "execution_count": 23
    },
    {
      "id": "a5f7cc4b-1cf8-4aaa-9922-bb0d97a0b63c",
      "cell_type": "code",
      "source": "# conditional statements \n#if statement\na=True\nif a: \n\tprint(\"a is True\") \nprint(\"Program ended\") \n\n#if-else statement\na=100\nb=200\nprint(a if a>b else b)\nprint(\"Program ended\") \n\n# if..else chain statement \nx= \"a\"\nif x== \"b\": \n\tprint(\"letter is b\") \nelse: \n\tif x== \"c\": \n\t\tprint(\"letter is c\") \n\telse: \n\t\tif x== \"a\": \n\t\t\tprint(\"letter is a\") \n\t\telse: \n\t\t\tprint(\"letter isn't a,b and c\") \n\n# if-elif statement example \ny = \"b\"\n\nif y== \"b\": \n\tprint(\"letter is b\") \n\nelif y== \"c\": \n\tprint(\"letter is C\") \n\nelif y== \"a\": \n\tprint(\"letter is A\") \n\nelse: \n\tprint(\"letter isn't a,b or c\") \n\n# Python lambda expression\na, b = 10, 20\nprint (\"Both a and b are equal\" if a == b else \"a is greater than b\" if a > b else \"b is greater than a\")",
      "metadata": {
        "trusted": true
      },
      "outputs": [
        {
          "name": "stdout",
          "text": "a is True\nProgram ended\n200\nProgram ended\nletter is a\nletter is b\nb is greater than a\n",
          "output_type": "stream"
        }
      ],
      "execution_count": 24
    },
    {
      "id": "917c077a-314d-4644-9757-ce5217b75c6e",
      "cell_type": "code",
      "source": "#Other Operations On Data\n#Arithmetic operations \na = 15\nb = 20\nprint(a+b)\nprint(a-b)\nprint(a*b)\nprint(a/b)\nprint(a//b)\nprint(a%b)\nprint(a**b)\n\n#Manipulation of strings\n\n#Eliminating Unnecessary Character of a String\ntext = \"!!!Hello, World!!!\"  \nclean_text = text.strip(\"!\")  \nprint(clean_text) \n\n#Dividing a string into multiple substrings \ntext = \"Hello world, how are you today?\"  \nwords = text.split()  \nprint(words) \n\n#Concatenate Strings\nstring1 = \"Hello\"  \nstring2 = \"world\"  \nresult = string1 + \" \" + string2  \nprint(result)",
      "metadata": {
        "trusted": true
      },
      "outputs": [
        {
          "name": "stdout",
          "text": "35\n-5\n300\n0.75\n0\n15\n332525673007965087890625\nHello, World\n['Hello', 'world,', 'how', 'are', 'you', 'today?']\nHello world\n",
          "output_type": "stream"
        }
      ],
      "execution_count": 25
    }
  ]
}